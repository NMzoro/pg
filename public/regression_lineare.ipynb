{
 "cells": [
  {
   "cell_type": "code",
   "execution_count": 1,
   "id": "bb65f1fe",
   "metadata": {},
   "outputs": [],
   "source": [
    "import numpy as np\n",
    "import matplotlib.pyplot as plt\n",
    "import sklearn.datasets as ds\n",
    "import seaborn as sns"
   ]
  },
  {
   "cell_type": "code",
   "execution_count": 2,
   "id": "886bc4a0",
   "metadata": {},
   "outputs": [],
   "source": [
    "np.random.seed(6)"
   ]
  },
  {
   "cell_type": "code",
   "execution_count": 8,
   "id": "491c9faa",
   "metadata": {},
   "outputs": [],
   "source": [
    "x,y=ds.make_regression(n_samples=100, n_features=1, n_targets=1, noise=20)"
   ]
  },
  {
   "cell_type": "code",
   "execution_count": 9,
   "id": "66b9b8aa",
   "metadata": {},
   "outputs": [
    {
     "data": {
      "text/plain": [
       "<matplotlib.collections.PathCollection at 0x182e0796350>"
      ]
     },
     "execution_count": 9,
     "metadata": {},
     "output_type": "execute_result"
    },
    {
     "data": {
      "image/png": "[encoded data removed]",
      "text/plain": [
       "<Figure size 640x480 with 1 Axes>"
      ]
     },
     "metadata": {},
     "output_type": "display_data"
    }
   ],
   "source": [
    "plt.scatter(x,y)"
   ]
  },
  {
   "cell_type": "code",
   "execution_count": 10,
   "id": "7b167790",
   "metadata": {},
   "outputs": [
    {
     "data": {
      "text/plain": [
       "(100,)"
      ]
     },
     "execution_count": 10,
     "metadata": {},
     "output_type": "execute_result"
    }
   ],
   "source": [
    "y.shape"
   ]
  },
  {
   "cell_type": "code",
   "execution_count": 11,
   "id": "7d7785a0",
   "metadata": {},
   "outputs": [
    {
     "data": {
      "text/plain": [
       "array([ 148.08211284,   -2.99659735,   33.31003775,  -27.80343103,\n",
       "         52.43590734,   15.6816744 ,  -41.62298134,  103.22630016,\n",
       "         -5.03443807,    1.7536854 ,  122.19837555,  139.88158158,\n",
       "        159.83458692,  -55.96809368,   41.20103132,    6.84549427,\n",
       "        -43.69377373,  -12.56146842,  135.92973518,  -16.02830563,\n",
       "         46.6567069 ,  123.10975403,  -24.84573249,  122.11086107,\n",
       "        140.26524864,   98.53112563,  101.86495598,  101.81774759,\n",
       "         55.67666758,   31.94067324,  -37.68301182,   34.44953328,\n",
       "        -45.77422277,   18.01129249,    1.17437923,   63.09949181,\n",
       "       -134.61784083,  230.49518404,  -89.60522282,   36.92758915,\n",
       "        -62.22480939,  -58.65287818,   40.00661414,   93.59591085,\n",
       "        -77.44677598,   81.861351  ,  -11.4538778 ,   51.09455172,\n",
       "         49.91298657,   89.90850583,  -32.70170444, -120.49421675,\n",
       "        -90.34719234,  -92.29651483, -213.23058802, -175.30758823,\n",
       "       -226.10933916,  112.84483171,    9.72680949,   66.34783463,\n",
       "         51.20153432, -131.68339718,   60.36434646, -187.25663418,\n",
       "         58.40965414,  -35.53089681,   17.0638857 ,   -1.67438379,\n",
       "        -46.56862685,    5.88460894,  -92.18175242, -150.42843949,\n",
       "         27.35911233,   55.55899184,  185.13788784,  -13.17963493,\n",
       "         45.10293684,  -26.2841305 ,   10.03600792,   63.75376761,\n",
       "         52.2008402 ,  106.8969283 ,   29.68776599,   71.94650307,\n",
       "        -37.399254  ,   40.40210217,   43.79415751,   36.98604303,\n",
       "         -9.89295   ,  -66.74507346,  -45.32724893,   48.44363246,\n",
       "        112.61363489, -123.55686472,    9.77666688,    3.1147069 ,\n",
       "         32.62000997,   25.66719608,  -38.76317485,  -89.89331598])"
      ]
     },
     "execution_count": 11,
     "metadata": {},
     "output_type": "execute_result"
    }
   ],
   "source": [
    "y"
   ]
  },
  {
   "cell_type": "code",
   "execution_count": 12,
   "id": "bb834e79",
   "metadata": {},
   "outputs": [
    {
     "data": {
      "text/plain": [
       "array([[ 1.84409559],\n",
       "       [-0.37760765],\n",
       "       [ 0.32490733],\n",
       "       [-0.38547508],\n",
       "       [ 0.81106019],\n",
       "       [ 0.41090073],\n",
       "       [-0.43016893],\n",
       "       [ 1.23631894],\n",
       "       [-0.31724333],\n",
       "       [ 0.14990859],\n",
       "       [ 1.65896536],\n",
       "       [ 1.31659165],\n",
       "       [ 1.75440845],\n",
       "       [-0.74722486],\n",
       "       [ 0.08748716],\n",
       "       [ 0.06117315],\n",
       "       [-0.37388201],\n",
       "       [ 0.02390484],\n",
       "       [ 1.78467571],\n",
       "       [-0.0328893 ],\n",
       "       [ 0.6046289 ],\n",
       "       [ 1.30158411],\n",
       "       [-0.16840314],\n",
       "       [ 1.58430318],\n",
       "       [ 1.7775283 ],\n",
       "       [ 1.39313259],\n",
       "       [ 1.11862873],\n",
       "       [ 0.81423222],\n",
       "       [ 0.4397294 ],\n",
       "       [ 0.64656168],\n",
       "       [-0.39977671],\n",
       "       [ 0.24711405],\n",
       "       [-0.56824318],\n",
       "       [ 0.20984291],\n",
       "       [-0.15910191],\n",
       "       [ 0.89867665],\n",
       "       [-1.15590566],\n",
       "       [ 2.71437971],\n",
       "       [-1.0783284 ],\n",
       "       [ 0.81632288],\n",
       "       [-0.65256523],\n",
       "       [-0.58819006],\n",
       "       [ 0.73718956],\n",
       "       [ 0.68783833],\n",
       "       [-0.67571237],\n",
       "       [ 0.62117924],\n",
       "       [ 0.1013954 ],\n",
       "       [ 0.34626887],\n",
       "       [ 0.46541235],\n",
       "       [ 1.20463814],\n",
       "       [-0.1735962 ],\n",
       "       [-1.18751869],\n",
       "       [-0.8349971 ],\n",
       "       [-0.92800218],\n",
       "       [-2.34764103],\n",
       "       [-2.10368227],\n",
       "       [-2.8345763 ],\n",
       "       [ 1.14483324],\n",
       "       [ 0.32795255],\n",
       "       [ 0.82797099],\n",
       "       [ 0.74387068],\n",
       "       [-1.38824942],\n",
       "       [ 0.98194607],\n",
       "       [-1.81995834],\n",
       "       [ 0.32687238],\n",
       "       [-0.66433073],\n",
       "       [ 0.71339106],\n",
       "       [-0.06434559],\n",
       "       [-0.04913236],\n",
       "       [ 0.22868099],\n",
       "       [-1.2203272 ],\n",
       "       [-1.75637473],\n",
       "       [ 0.15449727],\n",
       "       [ 0.30258949],\n",
       "       [ 2.04469555],\n",
       "       [-0.27531394],\n",
       "       [ 0.39610917],\n",
       "       [-0.31465698],\n",
       "       [-0.04104671],\n",
       "       [ 0.87614285],\n",
       "       [ 0.16409073],\n",
       "       [ 1.15070263],\n",
       "       [ 0.50524468],\n",
       "       [ 0.80558128],\n",
       "       [-0.68065002],\n",
       "       [ 0.11949148],\n",
       "       [ 0.58880901],\n",
       "       [ 0.55873158],\n",
       "       [-0.29328814],\n",
       "       [-0.99295785],\n",
       "       [-0.33620004],\n",
       "       [ 0.51728625],\n",
       "       [ 0.96738962],\n",
       "       [-1.69392935],\n",
       "       [-0.11487073],\n",
       "       [-0.09131602],\n",
       "       [ 0.20245289],\n",
       "       [ 0.03223183],\n",
       "       [-0.41548213],\n",
       "       [-1.14250084]])"
      ]
     },
     "execution_count": 12,
     "metadata": {},
     "output_type": "execute_result"
    }
   ],
   "source": [
    "x"
   ]
  },
  {
   "cell_type": "code",
   "execution_count": 13,
   "id": "234e048e",
   "metadata": {},
   "outputs": [
    {
     "data": {
      "text/plain": [
       "(100, 1)"
      ]
     },
     "execution_count": 13,
     "metadata": {},
     "output_type": "execute_result"
    }
   ],
   "source": [
    "x.shape"
   ]
  },
  {
   "cell_type": "code",
   "execution_count": 14,
   "id": "46d61d33",
   "metadata": {},
   "outputs": [],
   "source": [
    "y=y.reshape(len(y),1)"
   ]
  },
  {
   "cell_type": "code",
   "execution_count": 15,
   "id": "fd1e92ba",
   "metadata": {},
   "outputs": [
    {
     "data": {
      "text/plain": [
       "(100, 1)"
      ]
     },
     "execution_count": 15,
     "metadata": {},
     "output_type": "execute_result"
    }
   ],
   "source": [
    "y.shape"
   ]
  },
  {
   "cell_type": "code",
   "execution_count": 21,
   "id": "f1cbe7b1",
   "metadata": {},
   "outputs": [],
   "source": [
    "o = np.ones((x.shape[0],1))\n",
    "x=np.hstack((x,o))"
   ]
  },
  {
   "cell_type": "code",
   "execution_count": 22,
   "id": "7706e596",
   "metadata": {},
   "outputs": [
    {
     "data": {
      "text/plain": [
       "array([[ 1.84409559,  1.        ,  1.        ],\n",
       "       [-0.37760765,  1.        ,  1.        ],\n",
       "       [ 0.32490733,  1.        ,  1.        ],\n",
       "       [-0.38547508,  1.        ,  1.        ],\n",
       "       [ 0.81106019,  1.        ,  1.        ],\n",
       "       [ 0.41090073,  1.        ,  1.        ],\n",
       "       [-0.43016893,  1.        ,  1.        ],\n",
       "       [ 1.23631894,  1.        ,  1.        ],\n",
       "       [-0.31724333,  1.        ,  1.        ],\n",
       "       [ 0.14990859,  1.        ,  1.        ]])"
      ]
     },
     "execution_count": 22,
     "metadata": {},
     "output_type": "execute_result"
    }
   ],
   "source": [
    "x[:10]"
   ]
  },
  {
   "cell_type": "code",
   "execution_count": 24,
   "id": "3f44b65d",
   "metadata": {},
   "outputs": [],
   "source": [
    "theta = np.random.randn(x.shape[1],1)"
   ]
  },
  {
   "cell_type": "code",
   "execution_count": 25,
   "id": "3295bf5c",
   "metadata": {},
   "outputs": [
    {
     "data": {
      "text/plain": [
       "array([[-0.71033441],\n",
       "       [ 1.67104529],\n",
       "       [-1.18217353]])"
      ]
     },
     "execution_count": 25,
     "metadata": {},
     "output_type": "execute_result"
    }
   ],
   "source": [
    "theta"
   ]
  },
  {
   "cell_type": "markdown",
   "id": "7b64ba59",
   "metadata": {},
   "source": [
    "# LA fonction modele"
   ]
  },
  {
   "cell_type": "code",
   "execution_count": 30,
   "id": "40ff87fd",
   "metadata": {},
   "outputs": [],
   "source": [
    "def model(x,theta):\n",
    "    return np.dot(x,theta)"
   ]
  },
  {
   "cell_type": "markdown",
   "id": "e92d168f",
   "metadata": {},
   "source": [
    "# le modele par defaut"
   ]
  },
  {
   "cell_type": "code",
   "execution_count": 31,
   "id": "47b8cbcc",
   "metadata": {},
   "outputs": [
    {
     "data": {
      "text/plain": [
       "[<matplotlib.lines.Line2D at 0x182e1efe050>]"
      ]
     },
     "execution_count": 31,
     "metadata": {},
     "output_type": "execute_result"
    },
    {
     "data": {
      "image/png": "[encoded data removed]",
      "text/plain": [
       "<Figure size 640x480 with 1 Axes>"
      ]
     },
     "metadata": {},
     "output_type": "display_data"
    }
   ],
   "source": [
    "plt.scatter(x[:, 0], y)\n",
    "plt.plot(x[:, 0], model(x, theta), 'r')"
   ]
  },
  {
   "cell_type": "markdown",
   "id": "f2e732a5",
   "metadata": {},
   "source": [
    "# la fonction cout "
   ]
  },
  {
   "cell_type": "code",
   "execution_count": 32,
   "id": "a647f826",
   "metadata": {},
   "outputs": [],
   "source": [
    "def cost_function(x,y,theta):\n",
    "    m = len(y) # m = x.shape[0]\n",
    "    return 1/m * np.sum((model(x,theta)-y)**2)"
   ]
  },
  {
   "cell_type": "markdown",
   "id": "ead275fd",
   "metadata": {},
   "source": [
    "# le cout avant l'entrainment du modele"
   ]
  },
  {
   "cell_type": "code",
   "execution_count": 48,
   "id": "fd9661c3",
   "metadata": {},
   "outputs": [
    {
     "data": {
      "text/plain": [
       "7499.339881747016"
      ]
     },
     "execution_count": 48,
     "metadata": {},
     "output_type": "execute_result"
    }
   ],
   "source": [
    "cost_function(x,y,theta)"
   ]
  },
  {
   "cell_type": "markdown",
   "id": "c875cef9",
   "metadata": {},
   "source": [
    "# Le Gradient"
   ]
  },
  {
   "cell_type": "code",
   "execution_count": 44,
   "id": "9202fe75",
   "metadata": {},
   "outputs": [],
   "source": [
    "def grad(x,y,theta):\n",
    "    m = len(y)\n",
    "    return 2/m * np.dot(x.T, model(x,theta)-y)"
   ]
  },
  {
   "cell_type": "markdown",
   "id": "73c4a18c",
   "metadata": {},
   "source": [
    "# La descente de gradient"
   ]
  },
  {
   "cell_type": "code",
   "execution_count": 45,
   "id": "54d2ca55",
   "metadata": {},
   "outputs": [],
   "source": [
    "def gradient_descent(x,y,theta,learning_rate,n_iterations):\n",
    "    for i in range(n_iterations):\n",
    "        theta = theta - learning_rate * grad(x,y,theta)\n",
    "        return theta"
   ]
  },
  {
   "cell_type": "code",
   "execution_count": 43,
   "id": "2ee9f4a6",
   "metadata": {},
   "outputs": [
    {
     "ename": "NameError",
     "evalue": "name 'grad' is not defined",
     "output_type": "error",
     "traceback": [
      "\u001b[1;31m---------------------------------------------------------------------------\u001b[0m",
      "\u001b[1;31mNameError\u001b[0m                                 Traceback (most recent call last)",
      "Cell \u001b[1;32mIn[43], line 1\u001b[0m\n\u001b[1;32m----> 1\u001b[0m theta \u001b[38;5;241m=\u001b[39m \u001b[43mgradient_descent\u001b[49m\u001b[43m(\u001b[49m\u001b[43mx\u001b[49m\u001b[43m,\u001b[49m\u001b[43m \u001b[49m\u001b[43my\u001b[49m\u001b[43m,\u001b[49m\u001b[43m \u001b[49m\u001b[43mtheta\u001b[49m\u001b[43m,\u001b[49m\u001b[43m \u001b[49m\u001b[43mlearning_rate\u001b[49m\u001b[38;5;241;43m=\u001b[39;49m\u001b[38;5;241;43m0.1\u001b[39;49m\u001b[43m,\u001b[49m\u001b[43m \u001b[49m\u001b[43mn_iterations\u001b[49m\u001b[38;5;241;43m=\u001b[39;49m\u001b[38;5;241;43m1000\u001b[39;49m\u001b[43m)\u001b[49m\n",
      "Cell \u001b[1;32mIn[41], line 3\u001b[0m, in \u001b[0;36mgradient_descent\u001b[1;34m(x, y, theta, learning_rate, n_iterations)\u001b[0m\n\u001b[0;32m      1\u001b[0m \u001b[38;5;28;01mdef\u001b[39;00m \u001b[38;5;21mgradient_descent\u001b[39m(x,y,theta,learning_rate,n_iterations):\n\u001b[0;32m      2\u001b[0m     \u001b[38;5;28;01mfor\u001b[39;00m i \u001b[38;5;129;01min\u001b[39;00m \u001b[38;5;28mrange\u001b[39m(n_iterations):\n\u001b[1;32m----> 3\u001b[0m         theta \u001b[38;5;241m=\u001b[39m theta \u001b[38;5;241m-\u001b[39m learning_rate \u001b[38;5;241m*\u001b[39m \u001b[43mgrad\u001b[49m(x,y,theta)\n\u001b[0;32m      4\u001b[0m         \u001b[38;5;28;01mreturn\u001b[39;00m theta\n",
      "\u001b[1;31mNameError\u001b[0m: name 'grad' is not defined"
     ]
    }
   ],
   "source": [
    "theta = gradient_descent(x, y, theta, learning_rate=0.1, n_iterations=1000)"
   ]
  },
  {
   "cell_type": "code",
   "execution_count": 50,
   "id": "c23dca03",
   "metadata": {},
   "outputs": [
    {
     "ename": "ValueError",
     "evalue": "x and y must be the same size",
     "output_type": "error",
     "traceback": [
      "\u001b[1;31m---------------------------------------------------------------------------\u001b[0m",
      "\u001b[1;31mValueError\u001b[0m                                Traceback (most recent call last)",
      "Cell \u001b[1;32mIn[50], line 1\u001b[0m\n\u001b[1;32m----> 1\u001b[0m \u001b[43mplt\u001b[49m\u001b[38;5;241;43m.\u001b[39;49m\u001b[43mscatter\u001b[49m\u001b[43m(\u001b[49m\u001b[43mx\u001b[49m\u001b[43m[\u001b[49m\u001b[43m:\u001b[49m\u001b[43m,\u001b[49m\u001b[43m:\u001b[49m\u001b[38;5;241;43m-\u001b[39;49m\u001b[38;5;241;43m1\u001b[39;49m\u001b[43m]\u001b[49m\u001b[43m,\u001b[49m\u001b[43my\u001b[49m\u001b[43m)\u001b[49m\n\u001b[0;32m      2\u001b[0m plt\u001b[38;5;241m.\u001b[39mplot(x[:,:\u001b[38;5;241m-\u001b[39m\u001b[38;5;241m1\u001b[39m],model(x,theta),\u001b[38;5;124m'\u001b[39m\u001b[38;5;124mr\u001b[39m\u001b[38;5;124m'\u001b[39m)\n",
      "File \u001b[1;32m~\\anaconda2\\lib\\site-packages\\matplotlib\\pyplot.py:2835\u001b[0m, in \u001b[0;36mscatter\u001b[1;34m(x, y, s, c, marker, cmap, norm, vmin, vmax, alpha, linewidths, edgecolors, plotnonfinite, data, **kwargs)\u001b[0m\n\u001b[0;32m   2830\u001b[0m \u001b[38;5;129m@_copy_docstring_and_deprecators\u001b[39m(Axes\u001b[38;5;241m.\u001b[39mscatter)\n\u001b[0;32m   2831\u001b[0m \u001b[38;5;28;01mdef\u001b[39;00m \u001b[38;5;21mscatter\u001b[39m(\n\u001b[0;32m   2832\u001b[0m         x, y, s\u001b[38;5;241m=\u001b[39m\u001b[38;5;28;01mNone\u001b[39;00m, c\u001b[38;5;241m=\u001b[39m\u001b[38;5;28;01mNone\u001b[39;00m, marker\u001b[38;5;241m=\u001b[39m\u001b[38;5;28;01mNone\u001b[39;00m, cmap\u001b[38;5;241m=\u001b[39m\u001b[38;5;28;01mNone\u001b[39;00m, norm\u001b[38;5;241m=\u001b[39m\u001b[38;5;28;01mNone\u001b[39;00m,\n\u001b[0;32m   2833\u001b[0m         vmin\u001b[38;5;241m=\u001b[39m\u001b[38;5;28;01mNone\u001b[39;00m, vmax\u001b[38;5;241m=\u001b[39m\u001b[38;5;28;01mNone\u001b[39;00m, alpha\u001b[38;5;241m=\u001b[39m\u001b[38;5;28;01mNone\u001b[39;00m, linewidths\u001b[38;5;241m=\u001b[39m\u001b[38;5;28;01mNone\u001b[39;00m, \u001b[38;5;241m*\u001b[39m,\n\u001b[0;32m   2834\u001b[0m         edgecolors\u001b[38;5;241m=\u001b[39m\u001b[38;5;28;01mNone\u001b[39;00m, plotnonfinite\u001b[38;5;241m=\u001b[39m\u001b[38;5;28;01mFalse\u001b[39;00m, data\u001b[38;5;241m=\u001b[39m\u001b[38;5;28;01mNone\u001b[39;00m, \u001b[38;5;241m*\u001b[39m\u001b[38;5;241m*\u001b[39mkwargs):\n\u001b[1;32m-> 2835\u001b[0m     __ret \u001b[38;5;241m=\u001b[39m gca()\u001b[38;5;241m.\u001b[39mscatter(\n\u001b[0;32m   2836\u001b[0m         x, y, s\u001b[38;5;241m=\u001b[39ms, c\u001b[38;5;241m=\u001b[39mc, marker\u001b[38;5;241m=\u001b[39mmarker, cmap\u001b[38;5;241m=\u001b[39mcmap, norm\u001b[38;5;241m=\u001b[39mnorm,\n\u001b[0;32m   2837\u001b[0m         vmin\u001b[38;5;241m=\u001b[39mvmin, vmax\u001b[38;5;241m=\u001b[39mvmax, alpha\u001b[38;5;241m=\u001b[39malpha, linewidths\u001b[38;5;241m=\u001b[39mlinewidths,\n\u001b[0;32m   2838\u001b[0m         edgecolors\u001b[38;5;241m=\u001b[39medgecolors, plotnonfinite\u001b[38;5;241m=\u001b[39mplotnonfinite,\n\u001b[0;32m   2839\u001b[0m         \u001b[38;5;241m*\u001b[39m\u001b[38;5;241m*\u001b[39m({\u001b[38;5;124m\"\u001b[39m\u001b[38;5;124mdata\u001b[39m\u001b[38;5;124m\"\u001b[39m: data} \u001b[38;5;28;01mif\u001b[39;00m data \u001b[38;5;129;01mis\u001b[39;00m \u001b[38;5;129;01mnot\u001b[39;00m \u001b[38;5;28;01mNone\u001b[39;00m \u001b[38;5;28;01melse\u001b[39;00m {}), \u001b[38;5;241m*\u001b[39m\u001b[38;5;241m*\u001b[39mkwargs)\n\u001b[0;32m   2840\u001b[0m     sci(__ret)\n\u001b[0;32m   2841\u001b[0m     \u001b[38;5;28;01mreturn\u001b[39;00m __ret\n",
      "File \u001b[1;32m~\\anaconda2\\lib\\site-packages\\matplotlib\\__init__.py:1442\u001b[0m, in \u001b[0;36m_preprocess_data.<locals>.inner\u001b[1;34m(ax, data, *args, **kwargs)\u001b[0m\n\u001b[0;32m   1439\u001b[0m \u001b[38;5;129m@functools\u001b[39m\u001b[38;5;241m.\u001b[39mwraps(func)\n\u001b[0;32m   1440\u001b[0m \u001b[38;5;28;01mdef\u001b[39;00m \u001b[38;5;21minner\u001b[39m(ax, \u001b[38;5;241m*\u001b[39margs, data\u001b[38;5;241m=\u001b[39m\u001b[38;5;28;01mNone\u001b[39;00m, \u001b[38;5;241m*\u001b[39m\u001b[38;5;241m*\u001b[39mkwargs):\n\u001b[0;32m   1441\u001b[0m     \u001b[38;5;28;01mif\u001b[39;00m data \u001b[38;5;129;01mis\u001b[39;00m \u001b[38;5;28;01mNone\u001b[39;00m:\n\u001b[1;32m-> 1442\u001b[0m         \u001b[38;5;28;01mreturn\u001b[39;00m func(ax, \u001b[38;5;241m*\u001b[39m\u001b[38;5;28mmap\u001b[39m(sanitize_sequence, args), \u001b[38;5;241m*\u001b[39m\u001b[38;5;241m*\u001b[39mkwargs)\n\u001b[0;32m   1444\u001b[0m     bound \u001b[38;5;241m=\u001b[39m new_sig\u001b[38;5;241m.\u001b[39mbind(ax, \u001b[38;5;241m*\u001b[39margs, \u001b[38;5;241m*\u001b[39m\u001b[38;5;241m*\u001b[39mkwargs)\n\u001b[0;32m   1445\u001b[0m     auto_label \u001b[38;5;241m=\u001b[39m (bound\u001b[38;5;241m.\u001b[39marguments\u001b[38;5;241m.\u001b[39mget(label_namer)\n\u001b[0;32m   1446\u001b[0m                   \u001b[38;5;129;01mor\u001b[39;00m bound\u001b[38;5;241m.\u001b[39mkwargs\u001b[38;5;241m.\u001b[39mget(label_namer))\n",
      "File \u001b[1;32m~\\anaconda2\\lib\\site-packages\\matplotlib\\axes\\_axes.py:4584\u001b[0m, in \u001b[0;36mAxes.scatter\u001b[1;34m(self, x, y, s, c, marker, cmap, norm, vmin, vmax, alpha, linewidths, edgecolors, plotnonfinite, **kwargs)\u001b[0m\n\u001b[0;32m   4582\u001b[0m y \u001b[38;5;241m=\u001b[39m np\u001b[38;5;241m.\u001b[39mma\u001b[38;5;241m.\u001b[39mravel(y)\n\u001b[0;32m   4583\u001b[0m \u001b[38;5;28;01mif\u001b[39;00m x\u001b[38;5;241m.\u001b[39msize \u001b[38;5;241m!=\u001b[39m y\u001b[38;5;241m.\u001b[39msize:\n\u001b[1;32m-> 4584\u001b[0m     \u001b[38;5;28;01mraise\u001b[39;00m \u001b[38;5;167;01mValueError\u001b[39;00m(\u001b[38;5;124m\"\u001b[39m\u001b[38;5;124mx and y must be the same size\u001b[39m\u001b[38;5;124m\"\u001b[39m)\n\u001b[0;32m   4586\u001b[0m \u001b[38;5;28;01mif\u001b[39;00m s \u001b[38;5;129;01mis\u001b[39;00m \u001b[38;5;28;01mNone\u001b[39;00m:\n\u001b[0;32m   4587\u001b[0m     s \u001b[38;5;241m=\u001b[39m (\u001b[38;5;241m20\u001b[39m \u001b[38;5;28;01mif\u001b[39;00m mpl\u001b[38;5;241m.\u001b[39mrcParams[\u001b[38;5;124m'\u001b[39m\u001b[38;5;124m_internal.classic_mode\u001b[39m\u001b[38;5;124m'\u001b[39m] \u001b[38;5;28;01melse\u001b[39;00m\n\u001b[0;32m   4588\u001b[0m          mpl\u001b[38;5;241m.\u001b[39mrcParams[\u001b[38;5;124m'\u001b[39m\u001b[38;5;124mlines.markersize\u001b[39m\u001b[38;5;124m'\u001b[39m] \u001b[38;5;241m*\u001b[39m\u001b[38;5;241m*\u001b[39m \u001b[38;5;241m2.0\u001b[39m)\n",
      "\u001b[1;31mValueError\u001b[0m: x and y must be the same size"
     ]
    },
    {
     "data": {
      "image/png": "[encoded data removed]",
      "text/plain": [
       "<Figure size 640x480 with 1 Axes>"
      ]
     },
     "metadata": {},
     "output_type": "display_data"
    }
   ],
   "source": [
    "plt.scatter(x[:,:-1],y)\n",
    "plt.plot(x[:,:-1],model(x,theta),'r')"
   ]
  }
 ],
 "metadata": {
  "kernelspec": {
   "display_name": "Python 3 (ipykernel)",
   "language": "python",
   "name": "python3"
  },
  "language_info": {
   "codemirror_mode": {
    "name": "ipython",
    "version": 3
   },
   "file_extension": ".py",
   "mimetype": "text/x-python",
   "name": "python",
   "nbconvert_exporter": "python",
   "pygments_lexer": "ipython3",
   "version": "3.10.9"
  }
 },
 "nbformat": 4,
 "nbformat_minor": 5
}
